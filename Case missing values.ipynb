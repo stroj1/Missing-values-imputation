{
 "cells": [
  {
   "cell_type": "markdown",
   "id": "fbfee5a7",
   "metadata": {},
   "source": [
    "# IKEA  CASE"
   ]
  },
  {
   "cell_type": "markdown",
   "id": "4fe1b6ca",
   "metadata": {},
   "source": [
    "By: Stephany Rojas Gerena"
   ]
  },
  {
   "cell_type": "markdown",
   "id": "251a5b9f",
   "metadata": {},
   "source": [
    "### 1. Import libraries "
   ]
  },
  {
   "cell_type": "code",
   "execution_count": 2,
   "id": "7e68c41e",
   "metadata": {},
   "outputs": [],
   "source": [
    "import pandas as pd \n",
    "import seaborn as sns\n",
    "import matplotlib.pyplot as plt\n",
    "import numpy as np\n"
   ]
  },
  {
   "cell_type": "markdown",
   "id": "a49cd23e",
   "metadata": {},
   "source": [
    "### 2. Reading data"
   ]
  },
  {
   "cell_type": "code",
   "execution_count": 55,
   "id": "aabb9aa7",
   "metadata": {},
   "outputs": [
    {
     "data": {
      "text/plain": [
       "(537577, 12)"
      ]
     },
     "execution_count": 55,
     "metadata": {},
     "output_type": "execute_result"
    }
   ],
   "source": [
    "df = pd.read_csv('C:/Users/steph/Data Scientist RetailCustomerSales.csv')\n",
    "\n",
    "df.shape"
   ]
  },
  {
   "cell_type": "code",
   "execution_count": 56,
   "id": "59ec8fcb",
   "metadata": {},
   "outputs": [
    {
     "data": {
      "text/html": [
       "<div>\n",
       "<style scoped>\n",
       "    .dataframe tbody tr th:only-of-type {\n",
       "        vertical-align: middle;\n",
       "    }\n",
       "\n",
       "    .dataframe tbody tr th {\n",
       "        vertical-align: top;\n",
       "    }\n",
       "\n",
       "    .dataframe thead th {\n",
       "        text-align: right;\n",
       "    }\n",
       "</style>\n",
       "<table border=\"1\" class=\"dataframe\">\n",
       "  <thead>\n",
       "    <tr style=\"text-align: right;\">\n",
       "      <th></th>\n",
       "      <th>CustomerID</th>\n",
       "      <th>ItemID</th>\n",
       "      <th>Sex</th>\n",
       "      <th>Age</th>\n",
       "      <th>Profession</th>\n",
       "      <th>CityType</th>\n",
       "      <th>YearsInCity</th>\n",
       "      <th>Married</th>\n",
       "      <th>ItemCategory1</th>\n",
       "      <th>ItemCategory2</th>\n",
       "      <th>ItemCategory3</th>\n",
       "      <th>Amount</th>\n",
       "    </tr>\n",
       "  </thead>\n",
       "  <tbody>\n",
       "    <tr>\n",
       "      <th>0</th>\n",
       "      <td>1000001</td>\n",
       "      <td>P00069042</td>\n",
       "      <td>F</td>\n",
       "      <td>0-17</td>\n",
       "      <td>10</td>\n",
       "      <td>A</td>\n",
       "      <td>2</td>\n",
       "      <td>0.0</td>\n",
       "      <td>3</td>\n",
       "      <td>NaN</td>\n",
       "      <td>NaN</td>\n",
       "      <td>8370</td>\n",
       "    </tr>\n",
       "    <tr>\n",
       "      <th>1</th>\n",
       "      <td>1000001</td>\n",
       "      <td>P00248942</td>\n",
       "      <td>F</td>\n",
       "      <td>0-17</td>\n",
       "      <td>10</td>\n",
       "      <td>A</td>\n",
       "      <td>2</td>\n",
       "      <td>0.0</td>\n",
       "      <td>1</td>\n",
       "      <td>6.0</td>\n",
       "      <td>14.0</td>\n",
       "      <td>15200</td>\n",
       "    </tr>\n",
       "    <tr>\n",
       "      <th>2</th>\n",
       "      <td>1000001</td>\n",
       "      <td>P00087842</td>\n",
       "      <td>F</td>\n",
       "      <td>0-17</td>\n",
       "      <td>10</td>\n",
       "      <td>A</td>\n",
       "      <td>2</td>\n",
       "      <td>0.0</td>\n",
       "      <td>12</td>\n",
       "      <td>NaN</td>\n",
       "      <td>NaN</td>\n",
       "      <td>1422</td>\n",
       "    </tr>\n",
       "    <tr>\n",
       "      <th>3</th>\n",
       "      <td>1000001</td>\n",
       "      <td>P00085442</td>\n",
       "      <td>F</td>\n",
       "      <td>0-17</td>\n",
       "      <td>10</td>\n",
       "      <td>A</td>\n",
       "      <td>2</td>\n",
       "      <td>0.0</td>\n",
       "      <td>12</td>\n",
       "      <td>14.0</td>\n",
       "      <td>NaN</td>\n",
       "      <td>1057</td>\n",
       "    </tr>\n",
       "    <tr>\n",
       "      <th>4</th>\n",
       "      <td>1000002</td>\n",
       "      <td>P00285442</td>\n",
       "      <td>M</td>\n",
       "      <td>55+</td>\n",
       "      <td>16</td>\n",
       "      <td>C</td>\n",
       "      <td>4+</td>\n",
       "      <td>0.0</td>\n",
       "      <td>8</td>\n",
       "      <td>NaN</td>\n",
       "      <td>NaN</td>\n",
       "      <td>7969</td>\n",
       "    </tr>\n",
       "  </tbody>\n",
       "</table>\n",
       "</div>"
      ],
      "text/plain": [
       "   CustomerID     ItemID Sex   Age  Profession CityType YearsInCity  Married  \\\n",
       "0     1000001  P00069042   F  0-17          10        A           2      0.0   \n",
       "1     1000001  P00248942   F  0-17          10        A           2      0.0   \n",
       "2     1000001  P00087842   F  0-17          10        A           2      0.0   \n",
       "3     1000001  P00085442   F  0-17          10        A           2      0.0   \n",
       "4     1000002  P00285442   M   55+          16        C          4+      0.0   \n",
       "\n",
       "   ItemCategory1  ItemCategory2  ItemCategory3  Amount  \n",
       "0              3            NaN            NaN    8370  \n",
       "1              1            6.0           14.0   15200  \n",
       "2             12            NaN            NaN    1422  \n",
       "3             12           14.0            NaN    1057  \n",
       "4              8            NaN            NaN    7969  "
      ]
     },
     "execution_count": 56,
     "metadata": {},
     "output_type": "execute_result"
    }
   ],
   "source": [
    "df.head()"
   ]
  },
  {
   "cell_type": "code",
   "execution_count": 47,
   "id": "a776b5f0",
   "metadata": {},
   "outputs": [
    {
     "name": "stdout",
     "output_type": "stream",
     "text": [
      "<class 'pandas.core.frame.DataFrame'>\n",
      "RangeIndex: 537577 entries, 0 to 537576\n",
      "Data columns (total 12 columns):\n",
      " #   Column         Non-Null Count   Dtype  \n",
      "---  ------         --------------   -----  \n",
      " 0   CustomerID     537577 non-null  int64  \n",
      " 1   ItemID         537577 non-null  object \n",
      " 2   Sex            537577 non-null  object \n",
      " 3   Age            537577 non-null  object \n",
      " 4   Profession     537577 non-null  int64  \n",
      " 5   CityType       537577 non-null  object \n",
      " 6   YearsInCity    537577 non-null  object \n",
      " 7   Married        517407 non-null  float64\n",
      " 8   ItemCategory1  537577 non-null  int64  \n",
      " 9   ItemCategory2  370591 non-null  float64\n",
      " 10  ItemCategory3  164278 non-null  float64\n",
      " 11  Amount         537577 non-null  int64  \n",
      "dtypes: float64(3), int64(4), object(5)\n",
      "memory usage: 49.2+ MB\n"
     ]
    }
   ],
   "source": [
    "df.info()"
   ]
  },
  {
   "cell_type": "markdown",
   "id": "212227ef",
   "metadata": {},
   "source": [
    "We will check the unique values for each variable to check if python is correctly reading the missing values"
   ]
  },
  {
   "cell_type": "code",
   "execution_count": 6,
   "id": "ffb4942a",
   "metadata": {},
   "outputs": [
    {
     "name": "stdout",
     "output_type": "stream",
     "text": [
      "CustomerID :  [1000001 1000002 1000003 ... 1004113 1005391 1001529]\n",
      "\n",
      "ItemID :  ['P00069042' 'P00248942' 'P00087842' ... 'P00038842' 'P00295642'\n",
      " 'P00091742']\n",
      "\n",
      "Sex :  ['F' 'M']\n",
      "\n",
      "Age :  ['0-17' '55+' '26-35' '46-50' '51-55' '36-45' '18-25']\n",
      "\n",
      "Profession :  [10 16 15  7 20  9  1 12 17  0  3  4 11  8 19  2 18  5 14 13  6]\n",
      "\n",
      "CityType :  ['A' 'C' 'B']\n",
      "\n",
      "YearsInCity :  ['2' '4+' '3' '1' '0']\n",
      "\n",
      "Married :  [ 0.  1. nan]\n",
      "\n",
      "ItemCategory1 :  [ 3  1 12  8  5  4  2  6 14 11 13 15  7 16 18 10 17  9]\n",
      "\n",
      "ItemCategory2 :  [nan  6. 14.  2.  8. 15. 16. 11.  5.  3.  4. 12.  9. 10. 17. 13.  7. 18.]\n",
      "\n",
      "ItemCategory3 :  [nan 14. 17.  5.  4. 16. 15.  8.  9. 13.  6. 12.  3. 18. 11. 10.]\n",
      "\n",
      "Amount :  [ 8370 15200  1422 ... 14539 11120 18426]\n",
      "\n"
     ]
    }
   ],
   "source": [
    "#Check unique values on each feature\n",
    "\n",
    "features = df.columns.values\n",
    "for f in features :\n",
    "    print(f,': ',df[f].unique())\n",
    "    print()"
   ]
  },
  {
   "cell_type": "markdown",
   "id": "6a27a8e8",
   "metadata": {},
   "source": [
    "As we can see, missing values are correctly being read by python since we observe some nan values for some variables.\n",
    "\n",
    "Now we will check how the variable married looks like before handling the missing values. We will use this to compare later on"
   ]
  },
  {
   "cell_type": "code",
   "execution_count": 57,
   "id": "f7ad5f8f",
   "metadata": {},
   "outputs": [
    {
     "data": {
      "text/plain": [
       "<AxesSubplot:xlabel='Married', ylabel='count'>"
      ]
     },
     "execution_count": 57,
     "metadata": {},
     "output_type": "execute_result"
    },
    {
     "data": {
      "image/png": "[encoded data removed]",
      "text/plain": [
       "<Figure size 432x288 with 1 Axes>"
      ]
     },
     "metadata": {
      "needs_background": "light"
     },
     "output_type": "display_data"
    }
   ],
   "source": [
    "sns.countplot(x=df['Married'])"
   ]
  },
  {
   "cell_type": "code",
   "execution_count": 8,
   "id": "2f5dab7e",
   "metadata": {},
   "outputs": [
    {
     "data": {
      "text/plain": [
       "<seaborn.axisgrid.FacetGrid at 0x1f65f722700>"
      ]
     },
     "execution_count": 8,
     "metadata": {},
     "output_type": "execute_result"
    },
    {
     "data": {
      "image/png": "[encoded data removed]",
      "text/plain": [
       "<Figure size 864x360 with 2 Axes>"
      ]
     },
     "metadata": {
      "needs_background": "light"
     },
     "output_type": "display_data"
    }
   ],
   "source": [
    "sns.displot(\n",
    "  x=\"Amount\",\n",
    "  col=\"Married\",\n",
    "  kind=\"hist\",\n",
    "  data=df,  \n",
    "  aspect=1.2,\n",
    "  log_scale=10,\n",
    "  bins=30\n",
    ")"
   ]
  },
  {
   "cell_type": "markdown",
   "id": "f31b40d4",
   "metadata": {},
   "source": [
    "### 3. Examine missing values"
   ]
  },
  {
   "cell_type": "markdown",
   "id": "e35668ae",
   "metadata": {},
   "source": [
    "We will examine which variables have missing values and which percentage is missing. First we plot a bar graph that shows the amount of non missing data on each variable"
   ]
  },
  {
   "cell_type": "code",
   "execution_count": 21,
   "id": "0682b3ba",
   "metadata": {},
   "outputs": [
    {
     "data": {
      "text/plain": [
       "<AxesSubplot:>"
      ]
     },
     "execution_count": 21,
     "metadata": {},
     "output_type": "execute_result"
    },
    {
     "data": {
      "image/png": "[encoded data removed]",
      "text/plain": [
       "<Figure size 720x360 with 3 Axes>"
      ]
     },
     "metadata": {
      "needs_background": "light"
     },
     "output_type": "display_data"
    }
   ],
   "source": [
    "import missingno as msno\n",
    "\n",
    "msno.bar(df,figsize=(10,5), fontsize=12)"
   ]
  },
  {
   "cell_type": "markdown",
   "id": "56514916",
   "metadata": {},
   "source": [
    "Now we will check the detail of how many missing values are there per variable and the percentage that it represents of the total sample"
   ]
  },
  {
   "cell_type": "code",
   "execution_count": 8,
   "id": "0a1f46f3",
   "metadata": {},
   "outputs": [
    {
     "data": {
      "text/html": [
       "<div>\n",
       "<style scoped>\n",
       "    .dataframe tbody tr th:only-of-type {\n",
       "        vertical-align: middle;\n",
       "    }\n",
       "\n",
       "    .dataframe tbody tr th {\n",
       "        vertical-align: top;\n",
       "    }\n",
       "\n",
       "    .dataframe thead th {\n",
       "        text-align: right;\n",
       "    }\n",
       "</style>\n",
       "<table border=\"1\" class=\"dataframe\">\n",
       "  <thead>\n",
       "    <tr style=\"text-align: right;\">\n",
       "      <th></th>\n",
       "      <th>Missing Values</th>\n",
       "      <th>% of Total Data</th>\n",
       "    </tr>\n",
       "  </thead>\n",
       "  <tbody>\n",
       "    <tr>\n",
       "      <th>ItemCategory3</th>\n",
       "      <td>373299</td>\n",
       "      <td>69.4</td>\n",
       "    </tr>\n",
       "    <tr>\n",
       "      <th>ItemCategory2</th>\n",
       "      <td>166986</td>\n",
       "      <td>31.1</td>\n",
       "    </tr>\n",
       "    <tr>\n",
       "      <th>Married</th>\n",
       "      <td>20170</td>\n",
       "      <td>3.8</td>\n",
       "    </tr>\n",
       "  </tbody>\n",
       "</table>\n",
       "</div>"
      ],
      "text/plain": [
       "               Missing Values  % of Total Data\n",
       "ItemCategory3          373299             69.4\n",
       "ItemCategory2          166986             31.1\n",
       "Married                 20170              3.8"
      ]
     },
     "execution_count": 8,
     "metadata": {},
     "output_type": "execute_result"
    }
   ],
   "source": [
    "def missing_values_table(df):\n",
    "    \n",
    "        # Total missing values\n",
    "        mis_val = df.isnull().sum()\n",
    "        \n",
    "        # Percentage of total data\n",
    "        mis_val_percent = 100 * df.isnull().sum() / len(df)\n",
    "        \n",
    "        # Make a table with the results\n",
    "        mis_val_table = pd.concat([mis_val, mis_val_percent], axis=1)\n",
    "        \n",
    "        # Rename the columns\n",
    "        mis_val_table_ren_columns = mis_val_table.rename(\n",
    "        columns = {0 : 'Missing Values', 1 : '% of Total Data'})\n",
    "        \n",
    "        # Sort the table by percentage of missing descending\n",
    "        mis_val_table_ren_columns = mis_val_table_ren_columns[\n",
    "            mis_val_table_ren_columns.iloc[:,1] != 0].sort_values(\n",
    "        '% of Total Data', ascending=False).round(1)\n",
    "        \n",
    "        # Return the dataframe with missing information\n",
    "        return mis_val_table_ren_columns\n",
    "    \n",
    "    \n",
    "missing_values_table(df)"
   ]
  },
  {
   "cell_type": "markdown",
   "id": "8eb7b7b6",
   "metadata": {},
   "source": [
    "As we can see in the table and graph, item category 3 is the variable with the highest amount of missing data, and married the one with the lowest. The missing values for item category 3 and 2 can be explained because not all products belong to more than one category.\n",
    "\n",
    "Now we will check what type of missing data we have by checking the missing values in a matrix plot and correlation plot"
   ]
  },
  {
   "cell_type": "code",
   "execution_count": 27,
   "id": "9e3b20c0",
   "metadata": {},
   "outputs": [
    {
     "data": {
      "text/plain": [
       "<AxesSubplot:>"
      ]
     },
     "execution_count": 27,
     "metadata": {},
     "output_type": "execute_result"
    },
    {
     "data": {
      "image/png": "[encoded data removed]",
      "text/plain": [
       "<Figure size 1800x720 with 2 Axes>"
      ]
     },
     "metadata": {
      "needs_background": "light"
     },
     "output_type": "display_data"
    }
   ],
   "source": [
    "msno.matrix(df)"
   ]
  },
  {
   "cell_type": "code",
   "execution_count": 24,
   "id": "648422ee",
   "metadata": {},
   "outputs": [
    {
     "data": {
      "text/plain": [
       "<AxesSubplot:>"
      ]
     },
     "execution_count": 24,
     "metadata": {},
     "output_type": "execute_result"
    },
    {
     "data": {
      "image/png": "[encoded data removed]",
      "text/plain": [
       "<Figure size 720x360 with 1 Axes>"
      ]
     },
     "metadata": {
      "needs_background": "light"
     },
     "output_type": "display_data"
    }
   ],
   "source": [
    "msno.dendrogram(df,figsize=(10,5), fontsize=12)"
   ]
  },
  {
   "cell_type": "markdown",
   "id": "0e99a1a2",
   "metadata": {},
   "source": [
    "As we can see in the matrix plot, there is no evidence of a pattern between missing and observed data, also, in the dendogram we can see that the dissimilarity between married and other variables is not high. Therefore, we can say that this is a case of missing at random (MAR) data."
   ]
  },
  {
   "cell_type": "markdown",
   "id": "5af6a852",
   "metadata": {},
   "source": [
    "Now we will create a data frame containing only those observations where marital status is observed (not null). This will be our baseline model to evaluate the performance of the missing values imputation"
   ]
  },
  {
   "cell_type": "code",
   "execution_count": 41,
   "id": "78543105",
   "metadata": {},
   "outputs": [],
   "source": [
    "df_married_notnull=df[df['Married'].notnull()]"
   ]
  },
  {
   "cell_type": "code",
   "execution_count": 42,
   "id": "4646eaca",
   "metadata": {},
   "outputs": [
    {
     "data": {
      "text/plain": [
       "(537577, 13)"
      ]
     },
     "execution_count": 42,
     "metadata": {},
     "output_type": "execute_result"
    }
   ],
   "source": [
    "df_married_notnull.shape"
   ]
  },
  {
   "cell_type": "code",
   "execution_count": 43,
   "id": "ab7ee342",
   "metadata": {},
   "outputs": [
    {
     "data": {
      "text/html": [
       "<div>\n",
       "<style scoped>\n",
       "    .dataframe tbody tr th:only-of-type {\n",
       "        vertical-align: middle;\n",
       "    }\n",
       "\n",
       "    .dataframe tbody tr th {\n",
       "        vertical-align: top;\n",
       "    }\n",
       "\n",
       "    .dataframe thead th {\n",
       "        text-align: right;\n",
       "    }\n",
       "</style>\n",
       "<table border=\"1\" class=\"dataframe\">\n",
       "  <thead>\n",
       "    <tr style=\"text-align: right;\">\n",
       "      <th></th>\n",
       "      <th>CustomerID</th>\n",
       "      <th>ItemID</th>\n",
       "      <th>Sex</th>\n",
       "      <th>Age</th>\n",
       "      <th>Profession</th>\n",
       "      <th>CityType</th>\n",
       "      <th>YearsInCity</th>\n",
       "      <th>Married</th>\n",
       "      <th>ItemCategory1</th>\n",
       "      <th>ItemCategory2</th>\n",
       "      <th>ItemCategory3</th>\n",
       "      <th>Amount</th>\n",
       "      <th>imputed</th>\n",
       "    </tr>\n",
       "  </thead>\n",
       "  <tbody>\n",
       "    <tr>\n",
       "      <th>0</th>\n",
       "      <td>1000001</td>\n",
       "      <td>P00069042</td>\n",
       "      <td>F</td>\n",
       "      <td>0-17</td>\n",
       "      <td>10</td>\n",
       "      <td>A</td>\n",
       "      <td>2</td>\n",
       "      <td>0.0</td>\n",
       "      <td>3</td>\n",
       "      <td>NaN</td>\n",
       "      <td>NaN</td>\n",
       "      <td>8370</td>\n",
       "      <td>False</td>\n",
       "    </tr>\n",
       "    <tr>\n",
       "      <th>1</th>\n",
       "      <td>1000001</td>\n",
       "      <td>P00248942</td>\n",
       "      <td>F</td>\n",
       "      <td>0-17</td>\n",
       "      <td>10</td>\n",
       "      <td>A</td>\n",
       "      <td>2</td>\n",
       "      <td>0.0</td>\n",
       "      <td>1</td>\n",
       "      <td>6.0</td>\n",
       "      <td>14.0</td>\n",
       "      <td>15200</td>\n",
       "      <td>False</td>\n",
       "    </tr>\n",
       "    <tr>\n",
       "      <th>2</th>\n",
       "      <td>1000001</td>\n",
       "      <td>P00087842</td>\n",
       "      <td>F</td>\n",
       "      <td>0-17</td>\n",
       "      <td>10</td>\n",
       "      <td>A</td>\n",
       "      <td>2</td>\n",
       "      <td>0.0</td>\n",
       "      <td>12</td>\n",
       "      <td>NaN</td>\n",
       "      <td>NaN</td>\n",
       "      <td>1422</td>\n",
       "      <td>False</td>\n",
       "    </tr>\n",
       "    <tr>\n",
       "      <th>3</th>\n",
       "      <td>1000001</td>\n",
       "      <td>P00085442</td>\n",
       "      <td>F</td>\n",
       "      <td>0-17</td>\n",
       "      <td>10</td>\n",
       "      <td>A</td>\n",
       "      <td>2</td>\n",
       "      <td>0.0</td>\n",
       "      <td>12</td>\n",
       "      <td>14.0</td>\n",
       "      <td>NaN</td>\n",
       "      <td>1057</td>\n",
       "      <td>False</td>\n",
       "    </tr>\n",
       "    <tr>\n",
       "      <th>4</th>\n",
       "      <td>1000002</td>\n",
       "      <td>P00285442</td>\n",
       "      <td>M</td>\n",
       "      <td>55+</td>\n",
       "      <td>16</td>\n",
       "      <td>C</td>\n",
       "      <td>4+</td>\n",
       "      <td>0.0</td>\n",
       "      <td>8</td>\n",
       "      <td>NaN</td>\n",
       "      <td>NaN</td>\n",
       "      <td>7969</td>\n",
       "      <td>False</td>\n",
       "    </tr>\n",
       "  </tbody>\n",
       "</table>\n",
       "</div>"
      ],
      "text/plain": [
       "   CustomerID     ItemID Sex   Age  Profession CityType YearsInCity Married  \\\n",
       "0     1000001  P00069042   F  0-17          10        A           2     0.0   \n",
       "1     1000001  P00248942   F  0-17          10        A           2     0.0   \n",
       "2     1000001  P00087842   F  0-17          10        A           2     0.0   \n",
       "3     1000001  P00085442   F  0-17          10        A           2     0.0   \n",
       "4     1000002  P00285442   M   55+          16        C          4+     0.0   \n",
       "\n",
       "   ItemCategory1  ItemCategory2  ItemCategory3  Amount imputed  \n",
       "0              3            NaN            NaN    8370   False  \n",
       "1              1            6.0           14.0   15200   False  \n",
       "2             12            NaN            NaN    1422   False  \n",
       "3             12           14.0            NaN    1057   False  \n",
       "4              8            NaN            NaN    7969   False  "
      ]
     },
     "execution_count": 43,
     "metadata": {},
     "output_type": "execute_result"
    }
   ],
   "source": [
    "df_married_notnull.head()"
   ]
  },
  {
   "cell_type": "code",
   "execution_count": 44,
   "id": "0fb72554",
   "metadata": {},
   "outputs": [
    {
     "name": "stderr",
     "output_type": "stream",
     "text": [
      "C:\\Users\\steph\\anaconda3\\lib\\site-packages\\seaborn\\distributions.py:2557: FutureWarning: `distplot` is a deprecated function and will be removed in a future version. Please adapt your code to use either `displot` (a figure-level function with similar flexibility) or `histplot` (an axes-level function for histograms).\n",
      "  warnings.warn(msg, FutureWarning)\n"
     ]
    },
    {
     "data": {
      "text/plain": [
       "<AxesSubplot:xlabel='Amount', ylabel='Density'>"
      ]
     },
     "execution_count": 44,
     "metadata": {},
     "output_type": "execute_result"
    },
    {
     "data": {
      "image/png": "[encoded data removed]",
      "text/plain": [
       "<Figure size 432x288 with 1 Axes>"
      ]
     },
     "metadata": {
      "needs_background": "light"
     },
     "output_type": "display_data"
    }
   ],
   "source": [
    "sns.distplot(df_married_notnull[\"Amount\"])"
   ]
  },
  {
   "cell_type": "markdown",
   "id": "5238ea35",
   "metadata": {},
   "source": [
    "### 4. Handling missing values for marital status"
   ]
  },
  {
   "cell_type": "markdown",
   "id": "ba23dafb",
   "metadata": {},
   "source": [
    "#### 4.1 Univariate - simple imputation"
   ]
  },
  {
   "cell_type": "markdown",
   "id": "1af6fe2f",
   "metadata": {},
   "source": [
    "One type of imputation algorithm is univariate, which imputes values in the i-th feature dimension using only non-missing values in that feature dimension. We will use Simple imputer from sklearn.impute library to do this"
   ]
  },
  {
   "cell_type": "code",
   "execution_count": 12,
   "id": "8794ccb2",
   "metadata": {
    "scrolled": true
   },
   "outputs": [],
   "source": [
    "from sklearn.impute import SimpleImputer\n",
    "\n",
    "\n",
    "X = df.drop(['ItemCategory2','ItemCategory3'], axis=1) #not include other missing values\n",
    "\n",
    "imp = SimpleImputer(strategy=\"most_frequent\", add_indicator=True)\n",
    "df_imp=imp.fit_transform(X)\n",
    "\n",
    "\n"
   ]
  },
  {
   "cell_type": "code",
   "execution_count": 13,
   "id": "f9c8b081",
   "metadata": {},
   "outputs": [
    {
     "data": {
      "text/html": [
       "<div>\n",
       "<style scoped>\n",
       "    .dataframe tbody tr th:only-of-type {\n",
       "        vertical-align: middle;\n",
       "    }\n",
       "\n",
       "    .dataframe tbody tr th {\n",
       "        vertical-align: top;\n",
       "    }\n",
       "\n",
       "    .dataframe thead th {\n",
       "        text-align: right;\n",
       "    }\n",
       "</style>\n",
       "<table border=\"1\" class=\"dataframe\">\n",
       "  <thead>\n",
       "    <tr style=\"text-align: right;\">\n",
       "      <th></th>\n",
       "      <th>0</th>\n",
       "      <th>1</th>\n",
       "      <th>2</th>\n",
       "      <th>3</th>\n",
       "      <th>4</th>\n",
       "      <th>5</th>\n",
       "      <th>6</th>\n",
       "      <th>7</th>\n",
       "      <th>8</th>\n",
       "      <th>9</th>\n",
       "      <th>10</th>\n",
       "    </tr>\n",
       "  </thead>\n",
       "  <tbody>\n",
       "    <tr>\n",
       "      <th>0</th>\n",
       "      <td>1000001</td>\n",
       "      <td>P00069042</td>\n",
       "      <td>F</td>\n",
       "      <td>0-17</td>\n",
       "      <td>10</td>\n",
       "      <td>A</td>\n",
       "      <td>2</td>\n",
       "      <td>0.0</td>\n",
       "      <td>3</td>\n",
       "      <td>8370</td>\n",
       "      <td>False</td>\n",
       "    </tr>\n",
       "    <tr>\n",
       "      <th>1</th>\n",
       "      <td>1000001</td>\n",
       "      <td>P00248942</td>\n",
       "      <td>F</td>\n",
       "      <td>0-17</td>\n",
       "      <td>10</td>\n",
       "      <td>A</td>\n",
       "      <td>2</td>\n",
       "      <td>0.0</td>\n",
       "      <td>1</td>\n",
       "      <td>15200</td>\n",
       "      <td>False</td>\n",
       "    </tr>\n",
       "    <tr>\n",
       "      <th>2</th>\n",
       "      <td>1000001</td>\n",
       "      <td>P00087842</td>\n",
       "      <td>F</td>\n",
       "      <td>0-17</td>\n",
       "      <td>10</td>\n",
       "      <td>A</td>\n",
       "      <td>2</td>\n",
       "      <td>0.0</td>\n",
       "      <td>12</td>\n",
       "      <td>1422</td>\n",
       "      <td>False</td>\n",
       "    </tr>\n",
       "    <tr>\n",
       "      <th>3</th>\n",
       "      <td>1000001</td>\n",
       "      <td>P00085442</td>\n",
       "      <td>F</td>\n",
       "      <td>0-17</td>\n",
       "      <td>10</td>\n",
       "      <td>A</td>\n",
       "      <td>2</td>\n",
       "      <td>0.0</td>\n",
       "      <td>12</td>\n",
       "      <td>1057</td>\n",
       "      <td>False</td>\n",
       "    </tr>\n",
       "    <tr>\n",
       "      <th>4</th>\n",
       "      <td>1000002</td>\n",
       "      <td>P00285442</td>\n",
       "      <td>M</td>\n",
       "      <td>55+</td>\n",
       "      <td>16</td>\n",
       "      <td>C</td>\n",
       "      <td>4+</td>\n",
       "      <td>0.0</td>\n",
       "      <td>8</td>\n",
       "      <td>7969</td>\n",
       "      <td>False</td>\n",
       "    </tr>\n",
       "  </tbody>\n",
       "</table>\n",
       "</div>"
      ],
      "text/plain": [
       "        0          1  2     3   4  5   6    7   8      9      10\n",
       "0  1000001  P00069042  F  0-17  10  A   2  0.0   3   8370  False\n",
       "1  1000001  P00248942  F  0-17  10  A   2  0.0   1  15200  False\n",
       "2  1000001  P00087842  F  0-17  10  A   2  0.0  12   1422  False\n",
       "3  1000001  P00085442  F  0-17  10  A   2  0.0  12   1057  False\n",
       "4  1000002  P00285442  M   55+  16  C  4+  0.0   8   7969  False"
      ]
     },
     "execution_count": 13,
     "metadata": {},
     "output_type": "execute_result"
    }
   ],
   "source": [
    "#convert to dataframe. Married is in column 7\n",
    "\n",
    "df_imp=pd.DataFrame(df_imp) \n",
    "\n",
    "df_imp.head()"
   ]
  },
  {
   "cell_type": "code",
   "execution_count": 24,
   "id": "5ea66e47",
   "metadata": {},
   "outputs": [
    {
     "data": {
      "text/plain": [
       "20170"
      ]
     },
     "execution_count": 24,
     "metadata": {},
     "output_type": "execute_result"
    }
   ],
   "source": [
    "#check the indicator\n",
    "\n",
    "df_imp[10].unique()\n",
    "true_count=sum(df_imp[10])\n",
    "true_count\n"
   ]
  },
  {
   "cell_type": "code",
   "execution_count": 9,
   "id": "188f83dd",
   "metadata": {},
   "outputs": [
    {
     "data": {
      "text/html": [
       "<div>\n",
       "<style scoped>\n",
       "    .dataframe tbody tr th:only-of-type {\n",
       "        vertical-align: middle;\n",
       "    }\n",
       "\n",
       "    .dataframe tbody tr th {\n",
       "        vertical-align: top;\n",
       "    }\n",
       "\n",
       "    .dataframe thead th {\n",
       "        text-align: right;\n",
       "    }\n",
       "</style>\n",
       "<table border=\"1\" class=\"dataframe\">\n",
       "  <thead>\n",
       "    <tr style=\"text-align: right;\">\n",
       "      <th></th>\n",
       "      <th>Missing Values</th>\n",
       "      <th>% of Total Data</th>\n",
       "    </tr>\n",
       "  </thead>\n",
       "  <tbody>\n",
       "  </tbody>\n",
       "</table>\n",
       "</div>"
      ],
      "text/plain": [
       "Empty DataFrame\n",
       "Columns: [Missing Values, % of Total Data]\n",
       "Index: []"
      ]
     },
     "execution_count": 9,
     "metadata": {},
     "output_type": "execute_result"
    }
   ],
   "source": [
    "missing_values_table(df_imp) #check for missing values"
   ]
  },
  {
   "cell_type": "code",
   "execution_count": 48,
   "id": "96bcb469",
   "metadata": {},
   "outputs": [
    {
     "data": {
      "text/plain": [
       "0"
      ]
     },
     "execution_count": 48,
     "metadata": {},
     "output_type": "execute_result"
    }
   ],
   "source": [
    "#Final DF with simple imputation\n",
    "\n",
    "df2=df.copy(deep=False) #create a duplicate of df\n",
    "\n",
    "df2[\"Married\"] = df_imp[7] #add the imputation of married\n",
    "df2[\"imputed\"]=df_imp[10] #add the boolean that says if it was imputed\n",
    "\n",
    "\n",
    "df2[\"Married\"].isnull().sum() #check no null values in married"
   ]
  },
  {
   "cell_type": "code",
   "execution_count": 49,
   "id": "c1650582",
   "metadata": {},
   "outputs": [
    {
     "data": {
      "text/html": [
       "<div>\n",
       "<style scoped>\n",
       "    .dataframe tbody tr th:only-of-type {\n",
       "        vertical-align: middle;\n",
       "    }\n",
       "\n",
       "    .dataframe tbody tr th {\n",
       "        vertical-align: top;\n",
       "    }\n",
       "\n",
       "    .dataframe thead th {\n",
       "        text-align: right;\n",
       "    }\n",
       "</style>\n",
       "<table border=\"1\" class=\"dataframe\">\n",
       "  <thead>\n",
       "    <tr style=\"text-align: right;\">\n",
       "      <th></th>\n",
       "      <th>CustomerID</th>\n",
       "      <th>ItemID</th>\n",
       "      <th>Sex</th>\n",
       "      <th>Age</th>\n",
       "      <th>Profession</th>\n",
       "      <th>CityType</th>\n",
       "      <th>YearsInCity</th>\n",
       "      <th>Married</th>\n",
       "      <th>ItemCategory1</th>\n",
       "      <th>ItemCategory2</th>\n",
       "      <th>ItemCategory3</th>\n",
       "      <th>Amount</th>\n",
       "      <th>imputed</th>\n",
       "    </tr>\n",
       "  </thead>\n",
       "  <tbody>\n",
       "    <tr>\n",
       "      <th>0</th>\n",
       "      <td>1000001</td>\n",
       "      <td>P00069042</td>\n",
       "      <td>F</td>\n",
       "      <td>0-17</td>\n",
       "      <td>10</td>\n",
       "      <td>A</td>\n",
       "      <td>2</td>\n",
       "      <td>0.0</td>\n",
       "      <td>3</td>\n",
       "      <td>NaN</td>\n",
       "      <td>NaN</td>\n",
       "      <td>8370</td>\n",
       "      <td>False</td>\n",
       "    </tr>\n",
       "    <tr>\n",
       "      <th>1</th>\n",
       "      <td>1000001</td>\n",
       "      <td>P00248942</td>\n",
       "      <td>F</td>\n",
       "      <td>0-17</td>\n",
       "      <td>10</td>\n",
       "      <td>A</td>\n",
       "      <td>2</td>\n",
       "      <td>0.0</td>\n",
       "      <td>1</td>\n",
       "      <td>6.0</td>\n",
       "      <td>14.0</td>\n",
       "      <td>15200</td>\n",
       "      <td>False</td>\n",
       "    </tr>\n",
       "    <tr>\n",
       "      <th>2</th>\n",
       "      <td>1000001</td>\n",
       "      <td>P00087842</td>\n",
       "      <td>F</td>\n",
       "      <td>0-17</td>\n",
       "      <td>10</td>\n",
       "      <td>A</td>\n",
       "      <td>2</td>\n",
       "      <td>0.0</td>\n",
       "      <td>12</td>\n",
       "      <td>NaN</td>\n",
       "      <td>NaN</td>\n",
       "      <td>1422</td>\n",
       "      <td>False</td>\n",
       "    </tr>\n",
       "    <tr>\n",
       "      <th>3</th>\n",
       "      <td>1000001</td>\n",
       "      <td>P00085442</td>\n",
       "      <td>F</td>\n",
       "      <td>0-17</td>\n",
       "      <td>10</td>\n",
       "      <td>A</td>\n",
       "      <td>2</td>\n",
       "      <td>0.0</td>\n",
       "      <td>12</td>\n",
       "      <td>14.0</td>\n",
       "      <td>NaN</td>\n",
       "      <td>1057</td>\n",
       "      <td>False</td>\n",
       "    </tr>\n",
       "    <tr>\n",
       "      <th>4</th>\n",
       "      <td>1000002</td>\n",
       "      <td>P00285442</td>\n",
       "      <td>M</td>\n",
       "      <td>55+</td>\n",
       "      <td>16</td>\n",
       "      <td>C</td>\n",
       "      <td>4+</td>\n",
       "      <td>0.0</td>\n",
       "      <td>8</td>\n",
       "      <td>NaN</td>\n",
       "      <td>NaN</td>\n",
       "      <td>7969</td>\n",
       "      <td>False</td>\n",
       "    </tr>\n",
       "  </tbody>\n",
       "</table>\n",
       "</div>"
      ],
      "text/plain": [
       "   CustomerID     ItemID Sex   Age  Profession CityType YearsInCity Married  \\\n",
       "0     1000001  P00069042   F  0-17          10        A           2     0.0   \n",
       "1     1000001  P00248942   F  0-17          10        A           2     0.0   \n",
       "2     1000001  P00087842   F  0-17          10        A           2     0.0   \n",
       "3     1000001  P00085442   F  0-17          10        A           2     0.0   \n",
       "4     1000002  P00285442   M   55+          16        C          4+     0.0   \n",
       "\n",
       "   ItemCategory1  ItemCategory2  ItemCategory3  Amount imputed  \n",
       "0              3            NaN            NaN    8370   False  \n",
       "1              1            6.0           14.0   15200   False  \n",
       "2             12            NaN            NaN    1422   False  \n",
       "3             12           14.0            NaN    1057   False  \n",
       "4              8            NaN            NaN    7969   False  "
      ]
     },
     "execution_count": 49,
     "metadata": {},
     "output_type": "execute_result"
    }
   ],
   "source": [
    "df2.head()"
   ]
  },
  {
   "cell_type": "markdown",
   "id": "bfef2459",
   "metadata": {},
   "source": [
    "#### 4.2 k-nearest neighbors imputation"
   ]
  },
  {
   "cell_type": "markdown",
   "id": "4a2f8407",
   "metadata": {},
   "source": [
    "The missing values are replaced by the values of a “Nearest Neighbor”. The method works by finding “k” most similar/nearest\n",
    "complete cases to the incomplete case where the similarity is measured by a distance, by default, a euclidean distance. The number of neighbors (k) used by default is 5."
   ]
  },
  {
   "cell_type": "code",
   "execution_count": 15,
   "id": "6fd434b9",
   "metadata": {},
   "outputs": [
    {
     "data": {
      "text/html": [
       "<div>\n",
       "<style scoped>\n",
       "    .dataframe tbody tr th:only-of-type {\n",
       "        vertical-align: middle;\n",
       "    }\n",
       "\n",
       "    .dataframe tbody tr th {\n",
       "        vertical-align: top;\n",
       "    }\n",
       "\n",
       "    .dataframe thead th {\n",
       "        text-align: right;\n",
       "    }\n",
       "</style>\n",
       "<table border=\"1\" class=\"dataframe\">\n",
       "  <thead>\n",
       "    <tr style=\"text-align: right;\">\n",
       "      <th></th>\n",
       "      <th>CustomerID</th>\n",
       "      <th>ItemID</th>\n",
       "      <th>Sex</th>\n",
       "      <th>Age</th>\n",
       "      <th>Profession</th>\n",
       "      <th>CityType</th>\n",
       "      <th>YearsInCity</th>\n",
       "      <th>Married</th>\n",
       "      <th>ItemCategory1</th>\n",
       "      <th>ItemCategory2</th>\n",
       "      <th>ItemCategory3</th>\n",
       "      <th>Amount</th>\n",
       "    </tr>\n",
       "  </thead>\n",
       "  <tbody>\n",
       "    <tr>\n",
       "      <th>0</th>\n",
       "      <td>1000001</td>\n",
       "      <td>P00069042</td>\n",
       "      <td>0</td>\n",
       "      <td>0</td>\n",
       "      <td>10</td>\n",
       "      <td>0</td>\n",
       "      <td>2</td>\n",
       "      <td>0.0</td>\n",
       "      <td>3</td>\n",
       "      <td>NaN</td>\n",
       "      <td>NaN</td>\n",
       "      <td>8370</td>\n",
       "    </tr>\n",
       "    <tr>\n",
       "      <th>1</th>\n",
       "      <td>1000001</td>\n",
       "      <td>P00248942</td>\n",
       "      <td>0</td>\n",
       "      <td>0</td>\n",
       "      <td>10</td>\n",
       "      <td>0</td>\n",
       "      <td>2</td>\n",
       "      <td>0.0</td>\n",
       "      <td>1</td>\n",
       "      <td>6.0</td>\n",
       "      <td>14.0</td>\n",
       "      <td>15200</td>\n",
       "    </tr>\n",
       "    <tr>\n",
       "      <th>2</th>\n",
       "      <td>1000001</td>\n",
       "      <td>P00087842</td>\n",
       "      <td>0</td>\n",
       "      <td>0</td>\n",
       "      <td>10</td>\n",
       "      <td>0</td>\n",
       "      <td>2</td>\n",
       "      <td>0.0</td>\n",
       "      <td>12</td>\n",
       "      <td>NaN</td>\n",
       "      <td>NaN</td>\n",
       "      <td>1422</td>\n",
       "    </tr>\n",
       "    <tr>\n",
       "      <th>3</th>\n",
       "      <td>1000001</td>\n",
       "      <td>P00085442</td>\n",
       "      <td>0</td>\n",
       "      <td>0</td>\n",
       "      <td>10</td>\n",
       "      <td>0</td>\n",
       "      <td>2</td>\n",
       "      <td>0.0</td>\n",
       "      <td>12</td>\n",
       "      <td>14.0</td>\n",
       "      <td>NaN</td>\n",
       "      <td>1057</td>\n",
       "    </tr>\n",
       "    <tr>\n",
       "      <th>4</th>\n",
       "      <td>1000002</td>\n",
       "      <td>P00285442</td>\n",
       "      <td>1</td>\n",
       "      <td>6</td>\n",
       "      <td>16</td>\n",
       "      <td>1</td>\n",
       "      <td>4</td>\n",
       "      <td>0.0</td>\n",
       "      <td>8</td>\n",
       "      <td>NaN</td>\n",
       "      <td>NaN</td>\n",
       "      <td>7969</td>\n",
       "    </tr>\n",
       "  </tbody>\n",
       "</table>\n",
       "</div>"
      ],
      "text/plain": [
       "   CustomerID     ItemID  Sex  Age  Profession  CityType  YearsInCity  \\\n",
       "0     1000001  P00069042    0    0          10         0            2   \n",
       "1     1000001  P00248942    0    0          10         0            2   \n",
       "2     1000001  P00087842    0    0          10         0            2   \n",
       "3     1000001  P00085442    0    0          10         0            2   \n",
       "4     1000002  P00285442    1    6          16         1            4   \n",
       "\n",
       "   Married  ItemCategory1  ItemCategory2  ItemCategory3  Amount  \n",
       "0      0.0              3            NaN            NaN    8370  \n",
       "1      0.0              1            6.0           14.0   15200  \n",
       "2      0.0             12            NaN            NaN    1422  \n",
       "3      0.0             12           14.0            NaN    1057  \n",
       "4      0.0              8            NaN            NaN    7969  "
      ]
     },
     "execution_count": 15,
     "metadata": {},
     "output_type": "execute_result"
    }
   ],
   "source": [
    "#Encoders for categorical variables\n",
    "\n",
    "\n",
    "dictionary = {\"Sex\":     {\"F\": 0, \"M\": 1},\n",
    "              \"CityType\": {\"A\": 0, \"C\": 1, \"B\": 2},\n",
    "              \"YearsInCity\" : {\"2\":2, \"4+\":4, \"3\":3, \"1\":1,\"0\":0},\n",
    "              \"Age\": {\"0-17\":0, \"55+\":6, \"26-35\":2, \"46-50\":4, \"51-55\":5, \"36-45\":3,\"18-25\":1}\n",
    "             }\n",
    "\n",
    "df_encoded=df.replace(dictionary)\n",
    "\n",
    "df_encoded.head(5)\n"
   ]
  },
  {
   "cell_type": "code",
   "execution_count": 16,
   "id": "b1bcb5a7",
   "metadata": {},
   "outputs": [
    {
     "name": "stdout",
     "output_type": "stream",
     "text": [
      "<class 'pandas.core.frame.DataFrame'>\n",
      "RangeIndex: 537577 entries, 0 to 537576\n",
      "Data columns (total 9 columns):\n",
      " #   Column         Non-Null Count   Dtype  \n",
      "---  ------         --------------   -----  \n",
      " 0   CustomerID     537577 non-null  int64  \n",
      " 1   Sex            537577 non-null  int64  \n",
      " 2   Age            537577 non-null  int64  \n",
      " 3   Profession     537577 non-null  int64  \n",
      " 4   CityType       537577 non-null  int64  \n",
      " 5   YearsInCity    537577 non-null  int64  \n",
      " 6   Married        517407 non-null  float64\n",
      " 7   ItemCategory1  537577 non-null  int64  \n",
      " 8   Amount         537577 non-null  int64  \n",
      "dtypes: float64(1), int64(8)\n",
      "memory usage: 36.9 MB\n"
     ]
    },
    {
     "data": {
      "text/plain": [
       "(537577, 9)"
      ]
     },
     "execution_count": 16,
     "metadata": {},
     "output_type": "execute_result"
    }
   ],
   "source": [
    "#not include other columns with missing values\n",
    "\n",
    "X = df_encoded.drop(['ItemID','ItemCategory2','ItemCategory3'], axis=1)\n",
    "\n",
    "X.head()\n",
    "X.info()\n",
    "X.shape"
   ]
  },
  {
   "cell_type": "code",
   "execution_count": 64,
   "id": "6794f333",
   "metadata": {},
   "outputs": [],
   "source": [
    "#KNN\n",
    "\n",
    "from sklearn.impute import KNNImputer\n",
    "\n",
    "\n",
    "imputer=KNNImputer(add_indicator=True)\n",
    "imputer.fit(X)\n",
    "df_knn=np.round(imputer.transform(X)) #round so that the imputation is categorical"
   ]
  },
  {
   "cell_type": "code",
   "execution_count": 65,
   "id": "ad7418f1",
   "metadata": {},
   "outputs": [
    {
     "data": {
      "text/plain": [
       "CustomerID       20170\n",
       "Sex              20170\n",
       "Age              20170\n",
       "Profession       20170\n",
       "CityType         20170\n",
       "YearsInCity      20170\n",
       "Married          20170\n",
       "ItemCategory1    20170\n",
       "Amount           20170\n",
       "indicator        20170\n",
       "dtype: int64"
      ]
     },
     "execution_count": 65,
     "metadata": {},
     "output_type": "execute_result"
    }
   ],
   "source": [
    "#transform to dataframe\n",
    "\n",
    "df_knn=pd.DataFrame(df_knn, columns=[\"CustomerID\",\"Sex\",\"Age\",\"Profession\",\"CityType\",\"YearsInCity\",\"Married\",\"ItemCategory1\",\"Amount\",\"indicator\"])\n",
    "\n",
    "df_knn.head()\n",
    "\n",
    "#check the indicator\n",
    "\n",
    "df_knn[\"indicator\"].unique()\n",
    "\n",
    "df_knn[df_knn[\"indicator\"]==1].count()\n",
    "\n"
   ]
  },
  {
   "cell_type": "code",
   "execution_count": 66,
   "id": "94a08afa",
   "metadata": {},
   "outputs": [
    {
     "data": {
      "text/html": [
       "<div>\n",
       "<style scoped>\n",
       "    .dataframe tbody tr th:only-of-type {\n",
       "        vertical-align: middle;\n",
       "    }\n",
       "\n",
       "    .dataframe tbody tr th {\n",
       "        vertical-align: top;\n",
       "    }\n",
       "\n",
       "    .dataframe thead th {\n",
       "        text-align: right;\n",
       "    }\n",
       "</style>\n",
       "<table border=\"1\" class=\"dataframe\">\n",
       "  <thead>\n",
       "    <tr style=\"text-align: right;\">\n",
       "      <th></th>\n",
       "      <th>Missing Values</th>\n",
       "      <th>% of Total Data</th>\n",
       "    </tr>\n",
       "  </thead>\n",
       "  <tbody>\n",
       "  </tbody>\n",
       "</table>\n",
       "</div>"
      ],
      "text/plain": [
       "Empty DataFrame\n",
       "Columns: [Missing Values, % of Total Data]\n",
       "Index: []"
      ]
     },
     "execution_count": 66,
     "metadata": {},
     "output_type": "execute_result"
    }
   ],
   "source": [
    "#check missing values\n",
    "\n",
    "missing_values_table(df_knn)"
   ]
  },
  {
   "cell_type": "code",
   "execution_count": 67,
   "id": "24808135",
   "metadata": {},
   "outputs": [
    {
     "data": {
      "text/html": [
       "<div>\n",
       "<style scoped>\n",
       "    .dataframe tbody tr th:only-of-type {\n",
       "        vertical-align: middle;\n",
       "    }\n",
       "\n",
       "    .dataframe tbody tr th {\n",
       "        vertical-align: top;\n",
       "    }\n",
       "\n",
       "    .dataframe thead th {\n",
       "        text-align: right;\n",
       "    }\n",
       "</style>\n",
       "<table border=\"1\" class=\"dataframe\">\n",
       "  <thead>\n",
       "    <tr style=\"text-align: right;\">\n",
       "      <th></th>\n",
       "      <th>CustomerID</th>\n",
       "      <th>ItemID</th>\n",
       "      <th>Sex</th>\n",
       "      <th>Age</th>\n",
       "      <th>Profession</th>\n",
       "      <th>CityType</th>\n",
       "      <th>YearsInCity</th>\n",
       "      <th>Married</th>\n",
       "      <th>ItemCategory1</th>\n",
       "      <th>ItemCategory2</th>\n",
       "      <th>ItemCategory3</th>\n",
       "      <th>Amount</th>\n",
       "      <th>imputed</th>\n",
       "    </tr>\n",
       "  </thead>\n",
       "  <tbody>\n",
       "    <tr>\n",
       "      <th>0</th>\n",
       "      <td>1000001</td>\n",
       "      <td>P00069042</td>\n",
       "      <td>F</td>\n",
       "      <td>0-17</td>\n",
       "      <td>10</td>\n",
       "      <td>A</td>\n",
       "      <td>2</td>\n",
       "      <td>0.0</td>\n",
       "      <td>3</td>\n",
       "      <td>NaN</td>\n",
       "      <td>NaN</td>\n",
       "      <td>8370</td>\n",
       "      <td>0.0</td>\n",
       "    </tr>\n",
       "    <tr>\n",
       "      <th>1</th>\n",
       "      <td>1000001</td>\n",
       "      <td>P00248942</td>\n",
       "      <td>F</td>\n",
       "      <td>0-17</td>\n",
       "      <td>10</td>\n",
       "      <td>A</td>\n",
       "      <td>2</td>\n",
       "      <td>0.0</td>\n",
       "      <td>1</td>\n",
       "      <td>6.0</td>\n",
       "      <td>14.0</td>\n",
       "      <td>15200</td>\n",
       "      <td>0.0</td>\n",
       "    </tr>\n",
       "    <tr>\n",
       "      <th>2</th>\n",
       "      <td>1000001</td>\n",
       "      <td>P00087842</td>\n",
       "      <td>F</td>\n",
       "      <td>0-17</td>\n",
       "      <td>10</td>\n",
       "      <td>A</td>\n",
       "      <td>2</td>\n",
       "      <td>0.0</td>\n",
       "      <td>12</td>\n",
       "      <td>NaN</td>\n",
       "      <td>NaN</td>\n",
       "      <td>1422</td>\n",
       "      <td>0.0</td>\n",
       "    </tr>\n",
       "    <tr>\n",
       "      <th>3</th>\n",
       "      <td>1000001</td>\n",
       "      <td>P00085442</td>\n",
       "      <td>F</td>\n",
       "      <td>0-17</td>\n",
       "      <td>10</td>\n",
       "      <td>A</td>\n",
       "      <td>2</td>\n",
       "      <td>0.0</td>\n",
       "      <td>12</td>\n",
       "      <td>14.0</td>\n",
       "      <td>NaN</td>\n",
       "      <td>1057</td>\n",
       "      <td>0.0</td>\n",
       "    </tr>\n",
       "    <tr>\n",
       "      <th>4</th>\n",
       "      <td>1000002</td>\n",
       "      <td>P00285442</td>\n",
       "      <td>M</td>\n",
       "      <td>55+</td>\n",
       "      <td>16</td>\n",
       "      <td>C</td>\n",
       "      <td>4+</td>\n",
       "      <td>0.0</td>\n",
       "      <td>8</td>\n",
       "      <td>NaN</td>\n",
       "      <td>NaN</td>\n",
       "      <td>7969</td>\n",
       "      <td>0.0</td>\n",
       "    </tr>\n",
       "  </tbody>\n",
       "</table>\n",
       "</div>"
      ],
      "text/plain": [
       "   CustomerID     ItemID Sex   Age  Profession CityType YearsInCity  Married  \\\n",
       "0     1000001  P00069042   F  0-17          10        A           2      0.0   \n",
       "1     1000001  P00248942   F  0-17          10        A           2      0.0   \n",
       "2     1000001  P00087842   F  0-17          10        A           2      0.0   \n",
       "3     1000001  P00085442   F  0-17          10        A           2      0.0   \n",
       "4     1000002  P00285442   M   55+          16        C          4+      0.0   \n",
       "\n",
       "   ItemCategory1  ItemCategory2  ItemCategory3  Amount  imputed  \n",
       "0              3            NaN            NaN    8370      0.0  \n",
       "1              1            6.0           14.0   15200      0.0  \n",
       "2             12            NaN            NaN    1422      0.0  \n",
       "3             12           14.0            NaN    1057      0.0  \n",
       "4              8            NaN            NaN    7969      0.0  "
      ]
     },
     "execution_count": 67,
     "metadata": {},
     "output_type": "execute_result"
    }
   ],
   "source": [
    "#Final DF with KNN imputation\n",
    "\n",
    "df3=df.copy(deep=False)#create a duplicate of df\n",
    "\n",
    "df3[\"Married\"] = df_knn[\"Married\"] #add the imputation of married\n",
    "df3[\"imputed\"]=df_knn[\"indicator\"] #add the categorical that says if it was imputed\n",
    "\n",
    "df3.head()"
   ]
  },
  {
   "cell_type": "code",
   "execution_count": 68,
   "id": "33b61a28",
   "metadata": {},
   "outputs": [
    {
     "data": {
      "text/plain": [
       "0"
      ]
     },
     "execution_count": 68,
     "metadata": {},
     "output_type": "execute_result"
    }
   ],
   "source": [
    "df3[\"Married\"].isnull().sum() #check no null values in married"
   ]
  },
  {
   "cell_type": "markdown",
   "id": "9a9f63eb",
   "metadata": {},
   "source": [
    "**4.3 How to improve the imputation?**"
   ]
  },
  {
   "cell_type": "markdown",
   "id": "cf126cbb",
   "metadata": {},
   "source": [
    "* KNN can be improved by converting categorical variables in dummies instead of using the encoder. We could use only those dumies/categorical variables to estimate married, and use Hamming distance as the dissimilarity measure for neighbours\n",
    "* KNN can be improved by choosing the optimal number of neighbors: running multiple times and finding out the error, and choose the number of neighbors that minimize the error, or using cross-validation for tunning parameters\n",
    "* KNN can be improved by choosing only specific features to impute \"Married\". This could be achieved by a little feature selection, that could be as simple as measuring correlation (e.g. using chi square test)"
   ]
  },
  {
   "cell_type": "markdown",
   "id": "7e338635",
   "metadata": {},
   "source": [
    "### 5. Evaluation of techniques "
   ]
  },
  {
   "cell_type": "markdown",
   "id": "a6c4b62e",
   "metadata": {},
   "source": [
    "We will check how accurate are the suggested models used for handling the missing values. "
   ]
  },
  {
   "cell_type": "markdown",
   "id": "ee8f74df",
   "metadata": {},
   "source": [
    "**5.1 Comparing plots**"
   ]
  },
  {
   "cell_type": "code",
   "execution_count": 61,
   "id": "0fc0adcc",
   "metadata": {},
   "outputs": [
    {
     "data": {
      "text/plain": [
       "<AxesSubplot:xlabel='Married', ylabel='count'>"
      ]
     },
     "execution_count": 61,
     "metadata": {},
     "output_type": "execute_result"
    },
    {
     "data": {
      "image/png": "[encoded data removed]",
      "text/plain": [
       "<Figure size 432x288 with 1 Axes>"
      ]
     },
     "metadata": {
      "needs_background": "light"
     },
     "output_type": "display_data"
    }
   ],
   "source": [
    "sns.countplot(x=df['Married']) #original"
   ]
  },
  {
   "cell_type": "code",
   "execution_count": 62,
   "id": "b7770018",
   "metadata": {},
   "outputs": [
    {
     "data": {
      "text/plain": [
       "<AxesSubplot:xlabel='Married', ylabel='count'>"
      ]
     },
     "execution_count": 62,
     "metadata": {},
     "output_type": "execute_result"
    },
    {
     "data": {
      "image/png": "[encoded data removed]",
      "text/plain": [
       "<Figure size 432x288 with 1 Axes>"
      ]
     },
     "metadata": {
      "needs_background": "light"
     },
     "output_type": "display_data"
    }
   ],
   "source": [
    "sns.countplot(x=df2['Married']) #simple imputer\n"
   ]
  },
  {
   "cell_type": "code",
   "execution_count": 69,
   "id": "d4c3639d",
   "metadata": {},
   "outputs": [
    {
     "data": {
      "text/plain": [
       "<AxesSubplot:xlabel='Married', ylabel='count'>"
      ]
     },
     "execution_count": 69,
     "metadata": {},
     "output_type": "execute_result"
    },
    {
     "data": {
      "image/png": "[encoded data removed]",
      "text/plain": [
       "<Figure size 432x288 with 1 Axes>"
      ]
     },
     "metadata": {
      "needs_background": "light"
     },
     "output_type": "display_data"
    }
   ],
   "source": [
    "sns.countplot(x=df3['Married']) #knn imputer"
   ]
  },
  {
   "cell_type": "markdown",
   "id": "03f37275",
   "metadata": {},
   "source": [
    "**5.2 Fit a linear model to compare**"
   ]
  },
  {
   "cell_type": "markdown",
   "id": "91c883b3",
   "metadata": {},
   "source": [
    "We will fit a linear model to compare the different imputations used "
   ]
  },
  {
   "cell_type": "code",
   "execution_count": 113,
   "id": "1562f3b0",
   "metadata": {},
   "outputs": [
    {
     "name": "stdout",
     "output_type": "stream",
     "text": [
      "                            OLS Regression Results                            \n",
      "==============================================================================\n",
      "Dep. Variable:                 Amount   R-squared:                       0.004\n",
      "Model:                            OLS   Adj. R-squared:                  0.004\n",
      "Method:                 Least Squares   F-statistic:                     482.1\n",
      "Date:                Thu, 07 Apr 2022   Prob (F-statistic):               0.00\n",
      "Time:                        11:14:41   Log-Likelihood:            -5.1384e+06\n",
      "No. Observations:              517407   AIC:                         1.028e+07\n",
      "Df Residuals:                  517402   BIC:                         1.028e+07\n",
      "Df Model:                           4                                         \n",
      "Covariance Type:            nonrobust                                         \n",
      "===============================================================================\n",
      "                  coef    std err          t      P>|t|      [0.025      0.975]\n",
      "-------------------------------------------------------------------------------\n",
      "const        8708.1706     19.395    448.989      0.000    8670.157    8746.184\n",
      "Sex           661.6579     16.200     40.842      0.000     629.905     693.410\n",
      "Profession     11.2582      1.068     10.536      0.000       9.164      13.352\n",
      "Married         2.8173     14.060      0.200      0.841     -24.739      30.374\n",
      "YearsInCity    18.1278      5.382      3.368      0.001       7.580      28.676\n",
      "==============================================================================\n",
      "Omnibus:                    31621.730   Durbin-Watson:                   1.671\n",
      "Prob(Omnibus):                  0.000   Jarque-Bera (JB):            35309.077\n",
      "Skew:                           0.617   Prob(JB):                         0.00\n",
      "Kurtosis:                       2.661   Cond. No.                         35.0\n",
      "==============================================================================\n",
      "\n",
      "Notes:\n",
      "[1] Standard Errors assume that the covariance matrix of the errors is correctly specified.\n"
     ]
    }
   ],
   "source": [
    "import statsmodels.api as sm \n",
    "\n",
    "#Build basemodel dropping NA from original df\n",
    "\n",
    "df_prov = df_encoded[['Sex', 'Profession', 'Married','YearsInCity','Amount']] #define predictor variables\n",
    "\n",
    "\n",
    "df_cc=df_prov.dropna(how=\"any\") #base model without Nan in married \n",
    "\n",
    "X = sm.add_constant(df_cc.iloc[:,:-1])\n",
    "y = df_cc[\"Amount\"]\n",
    "lm = sm.OLS(y, X).fit()\n",
    "\n",
    "print(lm.summary())\n"
   ]
  },
  {
   "cell_type": "code",
   "execution_count": 114,
   "id": "ca81b656",
   "metadata": {},
   "outputs": [
    {
     "name": "stdout",
     "output_type": "stream",
     "text": [
      "                            OLS Regression Results                            \n",
      "==============================================================================\n",
      "Dep. Variable:                 Amount   R-squared:                       1.000\n",
      "Model:                            OLS   Adj. R-squared:                  1.000\n",
      "Method:                 Least Squares   F-statistic:                 4.857e+34\n",
      "Date:                Thu, 07 Apr 2022   Prob (F-statistic):               0.00\n",
      "Time:                        11:14:47   Log-Likelihood:             1.2954e+07\n",
      "No. Observations:              537577   AIC:                        -2.591e+07\n",
      "Df Residuals:                  537572   BIC:                        -2.591e+07\n",
      "Df Model:                           4                                         \n",
      "Covariance Type:            nonrobust                                         \n",
      "===============================================================================\n",
      "                  coef    std err          t      P>|t|      [0.025      0.975]\n",
      "-------------------------------------------------------------------------------\n",
      "const       -3.595e-12    3.6e-14    -99.940      0.000   -3.67e-12   -3.52e-12\n",
      "Profession  -4.725e-13   1.75e-15   -270.768      0.000   -4.76e-13   -4.69e-13\n",
      "YearsInCity -5.975e-13   8.77e-15    -68.162      0.000   -6.15e-13    -5.8e-13\n",
      "Amount          1.0000   2.27e-18    4.4e+17      0.000       1.000       1.000\n",
      "Sex_M         5.08e-13   2.65e-14     19.193      0.000    4.56e-13     5.6e-13\n",
      "==============================================================================\n",
      "Omnibus:                    14702.836   Durbin-Watson:                   1.045\n",
      "Prob(Omnibus):                  0.000   Jarque-Bera (JB):            15784.672\n",
      "Skew:                          -0.414   Prob(JB):                         0.00\n",
      "Kurtosis:                       2.857   Cond. No.                     3.68e+04\n",
      "==============================================================================\n",
      "\n",
      "Notes:\n",
      "[1] Standard Errors assume that the covariance matrix of the errors is correctly specified.\n",
      "[2] The condition number is large, 3.68e+04. This might indicate that there are\n",
      "strong multicollinearity or other numerical problems.\n"
     ]
    }
   ],
   "source": [
    "#Model with simple imputation\n",
    "\n",
    "\n",
    "dictionary = {\n",
    "              \"YearsInCity\" : {\"2\":2, \"4+\":4, \"3\":3, \"1\":1,\"0\":0},\n",
    "             }\n",
    "\n",
    "df_encoded2=df2.replace(dictionary) #encode df2\n",
    "\n",
    "df_ss = df_encoded2[['Sex', 'Profession', 'Married','YearsInCity','Amount']] #define predictor variables\n",
    "\n",
    "df_ss = pd.get_dummies(df_ss, columns=['Sex','Married'], drop_first=True) \n",
    "\n",
    "X = sm.add_constant(df_ss.iloc[:,:-1])\n",
    "y = df_ss[\"Amount\"]\n",
    "lm_ss = sm.OLS(y, X).fit()\n",
    "\n",
    "\n",
    "print(lm_ss.summary())"
   ]
  },
  {
   "cell_type": "code",
   "execution_count": 115,
   "id": "9dd1a7bc",
   "metadata": {},
   "outputs": [
    {
     "name": "stdout",
     "output_type": "stream",
     "text": [
      "                            OLS Regression Results                            \n",
      "==============================================================================\n",
      "Dep. Variable:                 Amount   R-squared:                       1.000\n",
      "Model:                            OLS   Adj. R-squared:                  1.000\n",
      "Method:                 Least Squares   F-statistic:                 4.857e+34\n",
      "Date:                Thu, 07 Apr 2022   Prob (F-statistic):               0.00\n",
      "Time:                        11:14:53   Log-Likelihood:             1.2954e+07\n",
      "No. Observations:              537577   AIC:                        -2.591e+07\n",
      "Df Residuals:                  537572   BIC:                        -2.591e+07\n",
      "Df Model:                           4                                         \n",
      "Covariance Type:            nonrobust                                         \n",
      "===============================================================================\n",
      "                  coef    std err          t      P>|t|      [0.025      0.975]\n",
      "-------------------------------------------------------------------------------\n",
      "const       -3.595e-12    3.6e-14    -99.940      0.000   -3.67e-12   -3.52e-12\n",
      "Profession  -4.725e-13   1.75e-15   -270.768      0.000   -4.76e-13   -4.69e-13\n",
      "YearsInCity -5.975e-13   8.77e-15    -68.162      0.000   -6.15e-13    -5.8e-13\n",
      "Amount          1.0000   2.27e-18    4.4e+17      0.000       1.000       1.000\n",
      "Sex_M         5.08e-13   2.65e-14     19.193      0.000    4.56e-13     5.6e-13\n",
      "==============================================================================\n",
      "Omnibus:                    14702.836   Durbin-Watson:                   1.045\n",
      "Prob(Omnibus):                  0.000   Jarque-Bera (JB):            15784.672\n",
      "Skew:                          -0.414   Prob(JB):                         0.00\n",
      "Kurtosis:                       2.857   Cond. No.                     3.68e+04\n",
      "==============================================================================\n",
      "\n",
      "Notes:\n",
      "[1] Standard Errors assume that the covariance matrix of the errors is correctly specified.\n",
      "[2] The condition number is large, 3.68e+04. This might indicate that there are\n",
      "strong multicollinearity or other numerical problems.\n"
     ]
    }
   ],
   "source": [
    "#Model with knn\n",
    "\n",
    "\n",
    "dictionary = {\n",
    "              \"YearsInCity\" : {\"2\":2, \"4+\":4, \"3\":3, \"1\":1,\"0\":0},\n",
    "             }\n",
    "\n",
    "df_encoded3=df3.replace(dictionary) #encode df3\n",
    "\n",
    "df_kk = df_encoded3[['Sex', 'Profession', 'Married','YearsInCity','Amount']] #define predictor variables\n",
    "\n",
    "df_kk = pd.get_dummies(df_kk, columns=['Sex','Married'], drop_first=True) \n",
    "\n",
    "X = sm.add_constant(df_kk.iloc[:,:-1])\n",
    "y = df_kk[\"Amount\"]\n",
    "lm_kk = sm.OLS(y, X).fit()\n",
    "\n",
    "print(lm_kk.summary())"
   ]
  },
  {
   "cell_type": "markdown",
   "id": "103ccd18",
   "metadata": {},
   "source": [
    "As we can see R-squuared won't be very useful to compare, since is suspiciously high for both imputation methods. This can be due to multicollinearity problems. Instead, we will use AIC to compare model's performance"
   ]
  },
  {
   "cell_type": "code",
   "execution_count": 116,
   "id": "e55c07d9",
   "metadata": {},
   "outputs": [
    {
     "name": "stdout",
     "output_type": "stream",
     "text": [
      "         Original  Simple imputer   Knn imputer\n",
      "AIC  1.027684e+07   -2.590861e+07 -2.590861e+07\n"
     ]
    }
   ],
   "source": [
    "print(pd.DataFrame({\"Original\":lm.aic,\"Simple imputer\":lm_ss.aic,\"Knn imputer\":lm_kk.aic},index=['AIC']))"
   ]
  },
  {
   "cell_type": "markdown",
   "id": "73f4e090",
   "metadata": {},
   "source": [
    "Since the imputation models have lower AIC value, they are better fitting models compared to the one of missing values. We will choose KNN imputer as our final outcome"
   ]
  },
  {
   "cell_type": "markdown",
   "id": "4376e6e1",
   "metadata": {},
   "source": [
    "### 6. Creating the output"
   ]
  },
  {
   "cell_type": "code",
   "execution_count": 120,
   "id": "f7e8ba89",
   "metadata": {},
   "outputs": [
    {
     "data": {
      "text/plain": [
       "(20170, 13)"
      ]
     },
     "execution_count": 120,
     "metadata": {},
     "output_type": "execute_result"
    }
   ],
   "source": [
    "# Chossing only rows where imputation was made\n",
    "\n",
    "df_final=df3[df3[\"imputed\"]==1]\n",
    "\n",
    "df_final.shape"
   ]
  },
  {
   "cell_type": "code",
   "execution_count": 125,
   "id": "cd2802af",
   "metadata": {},
   "outputs": [
    {
     "data": {
      "text/html": [
       "<div>\n",
       "<style scoped>\n",
       "    .dataframe tbody tr th:only-of-type {\n",
       "        vertical-align: middle;\n",
       "    }\n",
       "\n",
       "    .dataframe tbody tr th {\n",
       "        vertical-align: top;\n",
       "    }\n",
       "\n",
       "    .dataframe thead th {\n",
       "        text-align: right;\n",
       "    }\n",
       "</style>\n",
       "<table border=\"1\" class=\"dataframe\">\n",
       "  <thead>\n",
       "    <tr style=\"text-align: right;\">\n",
       "      <th></th>\n",
       "      <th>CustomerID</th>\n",
       "      <th>ItemID</th>\n",
       "      <th>Sex</th>\n",
       "      <th>Age</th>\n",
       "      <th>Profession</th>\n",
       "      <th>CityType</th>\n",
       "      <th>YearsInCity</th>\n",
       "      <th>Married</th>\n",
       "      <th>ItemCategory1</th>\n",
       "      <th>ItemCategory2</th>\n",
       "      <th>ItemCategory3</th>\n",
       "      <th>Amount</th>\n",
       "    </tr>\n",
       "  </thead>\n",
       "  <tbody>\n",
       "    <tr>\n",
       "      <th>56</th>\n",
       "      <td>1000015</td>\n",
       "      <td>P00334242</td>\n",
       "      <td>M</td>\n",
       "      <td>26-35</td>\n",
       "      <td>7</td>\n",
       "      <td>A</td>\n",
       "      <td>1</td>\n",
       "      <td>1.0</td>\n",
       "      <td>1</td>\n",
       "      <td>8.0</td>\n",
       "      <td>NaN</td>\n",
       "      <td>19653</td>\n",
       "    </tr>\n",
       "    <tr>\n",
       "      <th>57</th>\n",
       "      <td>1000015</td>\n",
       "      <td>P00247542</td>\n",
       "      <td>M</td>\n",
       "      <td>26-35</td>\n",
       "      <td>7</td>\n",
       "      <td>A</td>\n",
       "      <td>1</td>\n",
       "      <td>0.0</td>\n",
       "      <td>8</td>\n",
       "      <td>16.0</td>\n",
       "      <td>NaN</td>\n",
       "      <td>5958</td>\n",
       "    </tr>\n",
       "    <tr>\n",
       "      <th>58</th>\n",
       "      <td>1000015</td>\n",
       "      <td>P00338442</td>\n",
       "      <td>M</td>\n",
       "      <td>26-35</td>\n",
       "      <td>7</td>\n",
       "      <td>A</td>\n",
       "      <td>1</td>\n",
       "      <td>1.0</td>\n",
       "      <td>1</td>\n",
       "      <td>16.0</td>\n",
       "      <td>NaN</td>\n",
       "      <td>11415</td>\n",
       "    </tr>\n",
       "    <tr>\n",
       "      <th>59</th>\n",
       "      <td>1000015</td>\n",
       "      <td>P00275142</td>\n",
       "      <td>M</td>\n",
       "      <td>26-35</td>\n",
       "      <td>7</td>\n",
       "      <td>A</td>\n",
       "      <td>1</td>\n",
       "      <td>1.0</td>\n",
       "      <td>5</td>\n",
       "      <td>8.0</td>\n",
       "      <td>NaN</td>\n",
       "      <td>5380</td>\n",
       "    </tr>\n",
       "    <tr>\n",
       "      <th>60</th>\n",
       "      <td>1000015</td>\n",
       "      <td>P00333042</td>\n",
       "      <td>M</td>\n",
       "      <td>26-35</td>\n",
       "      <td>7</td>\n",
       "      <td>A</td>\n",
       "      <td>1</td>\n",
       "      <td>0.0</td>\n",
       "      <td>5</td>\n",
       "      <td>8.0</td>\n",
       "      <td>NaN</td>\n",
       "      <td>3594</td>\n",
       "    </tr>\n",
       "    <tr>\n",
       "      <th>...</th>\n",
       "      <td>...</td>\n",
       "      <td>...</td>\n",
       "      <td>...</td>\n",
       "      <td>...</td>\n",
       "      <td>...</td>\n",
       "      <td>...</td>\n",
       "      <td>...</td>\n",
       "      <td>...</td>\n",
       "      <td>...</td>\n",
       "      <td>...</td>\n",
       "      <td>...</td>\n",
       "      <td>...</td>\n",
       "    </tr>\n",
       "    <tr>\n",
       "      <th>537269</th>\n",
       "      <td>1004687</td>\n",
       "      <td>P00207842</td>\n",
       "      <td>M</td>\n",
       "      <td>36-45</td>\n",
       "      <td>14</td>\n",
       "      <td>C</td>\n",
       "      <td>0</td>\n",
       "      <td>1.0</td>\n",
       "      <td>13</td>\n",
       "      <td>16.0</td>\n",
       "      <td>NaN</td>\n",
       "      <td>962</td>\n",
       "    </tr>\n",
       "    <tr>\n",
       "      <th>537270</th>\n",
       "      <td>1004687</td>\n",
       "      <td>P00114342</td>\n",
       "      <td>M</td>\n",
       "      <td>36-45</td>\n",
       "      <td>14</td>\n",
       "      <td>C</td>\n",
       "      <td>0</td>\n",
       "      <td>0.0</td>\n",
       "      <td>1</td>\n",
       "      <td>8.0</td>\n",
       "      <td>17.0</td>\n",
       "      <td>19575</td>\n",
       "    </tr>\n",
       "    <tr>\n",
       "      <th>537545</th>\n",
       "      <td>1004733</td>\n",
       "      <td>P00144042</td>\n",
       "      <td>M</td>\n",
       "      <td>18-25</td>\n",
       "      <td>18</td>\n",
       "      <td>C</td>\n",
       "      <td>1</td>\n",
       "      <td>1.0</td>\n",
       "      <td>2</td>\n",
       "      <td>3.0</td>\n",
       "      <td>4.0</td>\n",
       "      <td>9687</td>\n",
       "    </tr>\n",
       "    <tr>\n",
       "      <th>537546</th>\n",
       "      <td>1004733</td>\n",
       "      <td>P00070042</td>\n",
       "      <td>M</td>\n",
       "      <td>18-25</td>\n",
       "      <td>18</td>\n",
       "      <td>C</td>\n",
       "      <td>1</td>\n",
       "      <td>0.0</td>\n",
       "      <td>1</td>\n",
       "      <td>2.0</td>\n",
       "      <td>16.0</td>\n",
       "      <td>15515</td>\n",
       "    </tr>\n",
       "    <tr>\n",
       "      <th>537547</th>\n",
       "      <td>1004733</td>\n",
       "      <td>P00244042</td>\n",
       "      <td>M</td>\n",
       "      <td>18-25</td>\n",
       "      <td>18</td>\n",
       "      <td>C</td>\n",
       "      <td>1</td>\n",
       "      <td>1.0</td>\n",
       "      <td>1</td>\n",
       "      <td>2.0</td>\n",
       "      <td>15.0</td>\n",
       "      <td>11543</td>\n",
       "    </tr>\n",
       "  </tbody>\n",
       "</table>\n",
       "<p>20170 rows × 12 columns</p>\n",
       "</div>"
      ],
      "text/plain": [
       "        CustomerID     ItemID Sex    Age  Profession CityType YearsInCity  \\\n",
       "56         1000015  P00334242   M  26-35           7        A           1   \n",
       "57         1000015  P00247542   M  26-35           7        A           1   \n",
       "58         1000015  P00338442   M  26-35           7        A           1   \n",
       "59         1000015  P00275142   M  26-35           7        A           1   \n",
       "60         1000015  P00333042   M  26-35           7        A           1   \n",
       "...            ...        ...  ..    ...         ...      ...         ...   \n",
       "537269     1004687  P00207842   M  36-45          14        C           0   \n",
       "537270     1004687  P00114342   M  36-45          14        C           0   \n",
       "537545     1004733  P00144042   M  18-25          18        C           1   \n",
       "537546     1004733  P00070042   M  18-25          18        C           1   \n",
       "537547     1004733  P00244042   M  18-25          18        C           1   \n",
       "\n",
       "        Married  ItemCategory1  ItemCategory2  ItemCategory3  Amount  \n",
       "56          1.0              1            8.0            NaN   19653  \n",
       "57          0.0              8           16.0            NaN    5958  \n",
       "58          1.0              1           16.0            NaN   11415  \n",
       "59          1.0              5            8.0            NaN    5380  \n",
       "60          0.0              5            8.0            NaN    3594  \n",
       "...         ...            ...            ...            ...     ...  \n",
       "537269      1.0             13           16.0            NaN     962  \n",
       "537270      0.0              1            8.0           17.0   19575  \n",
       "537545      1.0              2            3.0            4.0    9687  \n",
       "537546      0.0              1            2.0           16.0   15515  \n",
       "537547      1.0              1            2.0           15.0   11543  \n",
       "\n",
       "[20170 rows x 12 columns]"
      ]
     },
     "execution_count": 125,
     "metadata": {},
     "output_type": "execute_result"
    }
   ],
   "source": [
    "#drop imputation index\n",
    "\n",
    "df_final.drop(\"imputed\", axis=1)\n"
   ]
  },
  {
   "cell_type": "code",
   "execution_count": 126,
   "id": "38ed0050",
   "metadata": {},
   "outputs": [],
   "source": [
    "# Save this data as csv\n",
    "\n",
    "df_final.to_csv('IKEA_case.csv',index=False)"
   ]
  },
  {
   "cell_type": "code",
   "execution_count": 117,
   "id": "8f200d4a",
   "metadata": {},
   "outputs": [
    {
     "data": {
      "text/plain": [
       "array([0., 1.])"
      ]
     },
     "execution_count": 117,
     "metadata": {},
     "output_type": "execute_result"
    }
   ],
   "source": [
    "df3[\"imputed\"].unique()"
   ]
  },
  {
   "cell_type": "markdown",
   "id": "52b25a1c",
   "metadata": {},
   "source": [
    "### 7. Broader use of the dataset "
   ]
  },
  {
   "cell_type": "markdown",
   "id": "1ff30928",
   "metadata": {},
   "source": [
    "The dataset can be used to predict sales using machine learning algorithms. It means, using Amount as an outcome variable and using the other variables as features for the model. Doing this, we can also answer some questions:\n",
    "\n",
    "* Customer segmentation to predict if a customer will purchase or not depending on certain characteristics\n",
    "\n",
    "* What kind of customer spend the highest amount of money\n",
    "\n",
    "* Return rate of customers: predict if a customer with certain characteristics will buy again\n",
    "\n",
    "* Which item category should ikea focus on because it will bring the most sales"
   ]
  },
  {
   "cell_type": "code",
   "execution_count": null,
   "id": "4b71d637",
   "metadata": {},
   "outputs": [],
   "source": []
  }
 ],
 "metadata": {
  "kernelspec": {
   "display_name": "Python 3",
   "language": "python",
   "name": "python3"
  },
  "language_info": {
   "codemirror_mode": {
    "name": "ipython",
    "version": 3
   },
   "file_extension": ".py",
   "mimetype": "text/x-python",
   "name": "python",
   "nbconvert_exporter": "python",
   "pygments_lexer": "ipython3",
   "version": "3.8.8"
  }
 },
 "nbformat": 4,
 "nbformat_minor": 5
}
